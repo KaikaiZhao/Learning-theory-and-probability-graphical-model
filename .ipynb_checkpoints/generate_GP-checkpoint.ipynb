{
 "cells": [
  {
   "cell_type": "markdown",
   "metadata": {},
   "source": [
    "# Generate Gaussian Process Samples"
   ]
  },
  {
   "cell_type": "markdown",
   "metadata": {},
   "source": [
    "Reference: https://github.com/keyonvafa/gp-predictit-blog/blob/master/gp_samples.py"
   ]
  },
  {
   "cell_type": "code",
   "execution_count": 15,
   "metadata": {},
   "outputs": [],
   "source": [
    "import numpy as np\n",
    "import matplotlib.pyplot as plt"
   ]
  },
  {
   "cell_type": "code",
   "execution_count": 24,
   "metadata": {},
   "outputs": [],
   "source": [
    "def rq_covariance(params, x, xp):\n",
    "    h= params[0]\n",
    "    alpha = params[1]\n",
    "    l = params[2]\n",
    "    diffs = np.expand_dims(x /l, 1) - np.expand_dims(xp/l, 0)\n",
    "    print(diffs)\n",
    "    rq = h**2 *np.power(1+np.sum(diffs**2, axis=2)/(2*alpha*l**2),(-1*alpha))\n",
    "    print(rq)\n",
    "    return rq"
   ]
  },
  {
   "cell_type": "code",
   "execution_count": 48,
   "metadata": {},
   "outputs": [
    {
     "ename": "NameError",
     "evalue": "name 'diff' is not defined",
     "output_type": "error",
     "traceback": [
      "\u001b[1;31m---------------------------------------------------------------------------\u001b[0m",
      "\u001b[1;31mNameError\u001b[0m                                 Traceback (most recent call last)",
      "\u001b[1;32m<ipython-input-48-2b5fe49ea30f>\u001b[0m in \u001b[0;36m<module>\u001b[1;34m\u001b[0m\n\u001b[0;32m     10\u001b[0m \u001b[0mx\u001b[0m \u001b[1;33m=\u001b[0m \u001b[0mnp\u001b[0m\u001b[1;33m.\u001b[0m\u001b[0mlinspace\u001b[0m\u001b[1;33m(\u001b[0m\u001b[1;36m0\u001b[0m\u001b[1;33m,\u001b[0m \u001b[1;36m1\u001b[0m\u001b[1;33m,\u001b[0m \u001b[0mnum\u001b[0m\u001b[1;33m=\u001b[0m\u001b[0mn_points\u001b[0m\u001b[1;33m)\u001b[0m\u001b[1;33m\u001b[0m\u001b[1;33m\u001b[0m\u001b[0m\n\u001b[0;32m     11\u001b[0m \u001b[0mmean\u001b[0m \u001b[1;33m=\u001b[0m \u001b[0mnp\u001b[0m\u001b[1;33m.\u001b[0m\u001b[0mzeros\u001b[0m\u001b[1;33m(\u001b[0m\u001b[0mn_points\u001b[0m\u001b[1;33m)\u001b[0m\u001b[1;33m\u001b[0m\u001b[1;33m\u001b[0m\u001b[0m\n\u001b[1;32m---> 12\u001b[1;33m \u001b[0mcov\u001b[0m \u001b[1;33m=\u001b[0m \u001b[0mrbf_covariance\u001b[0m\u001b[1;33m(\u001b[0m\u001b[0mlength_scale\u001b[0m\u001b[1;33m,\u001b[0m \u001b[0mx\u001b[0m\u001b[1;33m,\u001b[0m \u001b[0mx\u001b[0m\u001b[1;33m)\u001b[0m\u001b[1;33m\u001b[0m\u001b[1;33m\u001b[0m\u001b[0m\n\u001b[0m",
      "\u001b[1;32m<ipython-input-48-2b5fe49ea30f>\u001b[0m in \u001b[0;36mrbf_covariance\u001b[1;34m(length_scale, x, xp)\u001b[0m\n\u001b[0;32m      1\u001b[0m \u001b[1;32mdef\u001b[0m \u001b[0mrbf_covariance\u001b[0m\u001b[1;33m(\u001b[0m\u001b[0mlength_scale\u001b[0m\u001b[1;33m,\u001b[0m \u001b[0mx\u001b[0m\u001b[1;33m,\u001b[0m \u001b[0mxp\u001b[0m\u001b[1;33m)\u001b[0m\u001b[1;33m:\u001b[0m\u001b[1;33m\u001b[0m\u001b[1;33m\u001b[0m\u001b[0m\n\u001b[0;32m      2\u001b[0m     \u001b[0mdiffs\u001b[0m \u001b[1;33m=\u001b[0m \u001b[0mx\u001b[0m\u001b[1;33m.\u001b[0m\u001b[0mreshape\u001b[0m\u001b[1;33m(\u001b[0m\u001b[1;33m(\u001b[0m\u001b[0mlen\u001b[0m\u001b[1;33m(\u001b[0m\u001b[0mx\u001b[0m\u001b[1;33m)\u001b[0m\u001b[1;33m,\u001b[0m\u001b[1;36m1\u001b[0m\u001b[1;33m)\u001b[0m\u001b[1;33m)\u001b[0m \u001b[1;33m-\u001b[0m \u001b[0mxp\u001b[0m\u001b[1;33m.\u001b[0m\u001b[0mreshape\u001b[0m\u001b[1;33m(\u001b[0m\u001b[1;36m1\u001b[0m\u001b[1;33m,\u001b[0m\u001b[0mlen\u001b[0m\u001b[1;33m(\u001b[0m\u001b[0mxp\u001b[0m\u001b[1;33m)\u001b[0m\u001b[1;33m)\u001b[0m\u001b[1;33m\u001b[0m\u001b[1;33m\u001b[0m\u001b[0m\n\u001b[1;32m----> 3\u001b[1;33m     \u001b[0mdiff_sq\u001b[0m \u001b[1;33m=\u001b[0m \u001b[1;33m-\u001b[0m\u001b[0mdiff\u001b[0m\u001b[1;33m**\u001b[0m\u001b[1;36m2\u001b[0m\u001b[1;33m/\u001b[0m\u001b[1;33m(\u001b[0m\u001b[1;36m2\u001b[0m\u001b[1;33m*\u001b[0m\u001b[0mlength_scale\u001b[0m\u001b[1;33m**\u001b[0m\u001b[1;36m2\u001b[0m\u001b[1;33m)\u001b[0m\u001b[1;33m\u001b[0m\u001b[1;33m\u001b[0m\u001b[0m\n\u001b[0m\u001b[0;32m      4\u001b[0m     \u001b[0mrbf\u001b[0m \u001b[1;33m=\u001b[0m \u001b[0mnp\u001b[0m\u001b[1;33m.\u001b[0m\u001b[0mexp\u001b[0m\u001b[1;33m(\u001b[0m \u001b[0mdiff_sq\u001b[0m \u001b[1;33m)\u001b[0m\u001b[1;33m\u001b[0m\u001b[1;33m\u001b[0m\u001b[0m\n\u001b[0;32m      5\u001b[0m     \u001b[1;32mreturn\u001b[0m \u001b[0mrbf\u001b[0m\u001b[1;33m\u001b[0m\u001b[1;33m\u001b[0m\u001b[0m\n",
      "\u001b[1;31mNameError\u001b[0m: name 'diff' is not defined"
     ]
    }
   ],
   "source": [
    "def rbf_covariance(length_scale, x, xp):\n",
    "    diffs = x.reshape((len(x),1)) - xp.reshape(1,len(xp))\n",
    "    diff_sq = -diffs**2/(2*length_scale**2)\n",
    "    rbf = np.exp( diff_sq )\n",
    "    return rbf\n",
    "\n",
    "length_scale = 1\n",
    "n_points = 10\n",
    "n_samples = 3\n",
    "x = np.linspace(0, 1, num=n_points)\n",
    "mean = np.zeros(n_points)\n",
    "cov = rbf_covariance(length_scale, x, x)"
   ]
  },
  {
   "cell_type": "code",
   "execution_count": null,
   "metadata": {},
   "outputs": [],
   "source": [
    "rq_covariance(np.ones(3), np.arange(3), np.arange(3))"
   ]
  },
  {
   "cell_type": "code",
   "execution_count": 27,
   "metadata": {},
   "outputs": [
    {
     "data": {
      "text/plain": [
       "array([1., 1., 1.])"
      ]
     },
     "execution_count": 27,
     "metadata": {},
     "output_type": "execute_result"
    }
   ],
   "source": [
    "np.ones(3)"
   ]
  },
  {
   "cell_type": "code",
   "execution_count": null,
   "metadata": {},
   "outputs": [],
   "source": [
    "def plot_gp(ax,params,plot_xs,n_samples = 10,xlab=False,ylab=False):\n",
    "    #plot_xs = np.reshape(np.linspace(-5, 5, 300), (300,1))\n",
    "    sampled_funcs = np.random.multivariate_normal(np.ones(len(plot_xs)), rq_covariance(params,plot_xs,plot_xs),\\\n",
    "    \t\t\t\t\tsize=10)\n",
    "    ax.plot(plot_xs, sampled_funcs.T)\n",
    "    ax.set_title(r'$\\alpha = {},\\/ l = {} $'.format(\\\n",
    "        params[1],params[2]),fontsize = 22)\n",
    "    if xlab:\n",
    "        ax.set_xlabel(r'$x$',fontsize = 20)\n",
    "    if ylab:\n",
    "        ax.set_ylabel(r'$f(x)$',fontsize = 20)\n",
    "\n",
    "fig = plt.figure(figsize=(20,8), facecolor='white')\n",
    "ax_1 = fig.add_subplot(231, frameon=False)\n",
    "ax_2 = fig.add_subplot(232, frameon=False)\n",
    "ax_3 = fig.add_subplot(233, frameon=False)\n",
    "ax_4 = fig.add_subplot(234, frameon=False)\n",
    "ax_5 = fig.add_subplot(235, frameon=False)\n",
    "ax_6 = fig.add_subplot(236, frameon=False)\n",
    "ax_1.set_xticks([])\n",
    "ax_1.set_yticks([])\n",
    "ax_2.set_xticks([])\n",
    "ax_2.set_yticks([])\n",
    "ax_3.set_xticks([])\n",
    "ax_3.set_yticks([])\n",
    "ax_4.set_xticks([])\n",
    "ax_4.set_yticks([])\n",
    "ax_5.set_xticks([])\n",
    "ax_5.set_yticks([])\n",
    "ax_6.set_xticks([])\n",
    "ax_6.set_yticks([])\n",
    "\n",
    "plot_xs = np.reshape(np.linspace(-5, 5, 300), (300,1))\n",
    "plot_gp(ax_1,np.array([1,1,.5]),plot_xs,ylab=True)\n",
    "plot_gp(ax_2,np.array([1,1,1.0]),plot_xs)\n",
    "plot_gp(ax_3,np.array([1,1,2.0]),plot_xs)\n",
    "plot_gp(ax_4,np.array([1,.02,1]),plot_xs,ylab=True,xlab=True)\n",
    "plot_gp(ax_5,np.array([1,.1,1]),plot_xs,xlab=True)\n",
    "plot_gp(ax_6,np.array([1,2.0,1]),plot_xs,xlab=True)\n",
    "plt.savefig('gp_samples.png', format='png',bbox_inches='tight')"
   ]
  },
  {
   "cell_type": "code",
   "execution_count": null,
   "metadata": {},
   "outputs": [],
   "source": [
    "plot_xs = np.linspace(0, 1, 5)\n",
    "diffs = np.reshape(plot_xs, ( len(plot_xs), 1 )) - np.reshape(plot_xs, ( 1, len(plot_xs)))\n",
    "print(diffs.shape)\n",
    "print(diffs)"
   ]
  },
  {
   "cell_type": "code",
   "execution_count": 40,
   "metadata": {},
   "outputs": [
    {
     "data": {
      "text/plain": [
       "(5, 5)"
      ]
     },
     "execution_count": 40,
     "metadata": {},
     "output_type": "execute_result"
    }
   ],
   "source": [
    "(diffs[:,:,0]**2).shape"
   ]
  },
  {
   "cell_type": "code",
   "execution_count": 42,
   "metadata": {},
   "outputs": [],
   "source": [
    "aa=np.sum(diffs**2, axis=2)"
   ]
  },
  {
   "cell_type": "code",
   "execution_count": 43,
   "metadata": {},
   "outputs": [
    {
     "data": {
      "text/plain": [
       "(5, 5)"
      ]
     },
     "execution_count": 43,
     "metadata": {},
     "output_type": "execute_result"
    }
   ],
   "source": [
    "aa.shape"
   ]
  },
  {
   "cell_type": "code",
   "execution_count": null,
   "metadata": {},
   "outputs": [],
   "source": [
    "rq = np.power(1+np.sum(diffs**2, axis=2)/(1),(-1*1))\n",
    "print(rq.shape)\n",
    "print(rq)"
   ]
  },
  {
   "cell_type": "code",
   "execution_count": 23,
   "metadata": {},
   "outputs": [
    {
     "name": "stdout",
     "output_type": "stream",
     "text": [
      "[[ 0 -1 -2 -3]\n",
      " [ 1  0 -1 -2]\n",
      " [ 2  1  0 -1]\n",
      " [ 3  2  1  0]]\n"
     ]
    }
   ],
   "source": [
    "np.expand_dims(x, 0).shape\n",
    "diffs = np.expand_dims(x, 1) - np.expand_dims(x, 0)\n",
    "print(diffs)"
   ]
  },
  {
   "cell_type": "code",
   "execution_count": null,
   "metadata": {},
   "outputs": [],
   "source": [
    "l=1\n",
    "a1=np.expand_dims(x /l, 1)\n",
    "print(a1)\n",
    "a1.shape"
   ]
  },
  {
   "cell_type": "code",
   "execution_count": null,
   "metadata": {},
   "outputs": [],
   "source": [
    "a0=np.expand_dims(x /l, 0)\n",
    "print(a0)\n",
    "a0.shape"
   ]
  },
  {
   "cell_type": "code",
   "execution_count": null,
   "metadata": {},
   "outputs": [],
   "source": [
    "diffs=a1-a0\n",
    "print(diffs.shape)\n",
    "print(diffs)"
   ]
  },
  {
   "cell_type": "code",
   "execution_count": null,
   "metadata": {},
   "outputs": [],
   "source": [
    "mean = [0, 0]\n",
    "cov = [[10, 15], [15, 100]]  # diagonal covariance\n",
    "x, y = np.random.multivariate_normal(mean, cov, 20).T\n",
    "print(x.shape)\n",
    "print(x)\n",
    "print(y.shape)\n",
    "print(y)\n",
    "plt.plot(x, y, 'o')\n",
    "plt.axis('equal')\n",
    "plt.show()"
   ]
  },
  {
   "cell_type": "code",
   "execution_count": null,
   "metadata": {},
   "outputs": [],
   "source": [
    "aa=np.linspace(-5, 5, 20)"
   ]
  },
  {
   "cell_type": "code",
   "execution_count": null,
   "metadata": {},
   "outputs": [],
   "source": [
    "aa.shape"
   ]
  },
  {
   "cell_type": "code",
   "execution_count": null,
   "metadata": {},
   "outputs": [],
   "source": [
    "print(aa)"
   ]
  },
  {
   "cell_type": "code",
   "execution_count": null,
   "metadata": {},
   "outputs": [],
   "source": [
    "ab = np.reshape(aa,(20,1))"
   ]
  },
  {
   "cell_type": "code",
   "execution_count": null,
   "metadata": {},
   "outputs": [],
   "source": [
    "ac = np.expand_dims(ab, 0)"
   ]
  },
  {
   "cell_type": "code",
   "execution_count": null,
   "metadata": {},
   "outputs": [],
   "source": [
    "ac.shape"
   ]
  },
  {
   "cell_type": "code",
   "execution_count": null,
   "metadata": {},
   "outputs": [],
   "source": [
    "print(ac)"
   ]
  },
  {
   "cell_type": "code",
   "execution_count": null,
   "metadata": {},
   "outputs": [],
   "source": [
    "plot_xs.shape"
   ]
  },
  {
   "cell_type": "code",
   "execution_count": null,
   "metadata": {},
   "outputs": [],
   "source": [
    "import matplotlib.pyplot as plt\n",
    "import numpy as np\n",
    "import scipy.stats\n",
    "\n",
    "\n",
    "def gp_samples(n_points, n_samples):\n",
    "    grid = np.linspace(0, 1, num=n_points)\n",
    "\n",
    "    mean = np.zeros_like(grid)\n",
    "    cov = np.minimum(grid[:,None], grid[None,:]) - np.outer(grid, grid)\n",
    "    samples = scipy.stats.multivariate_normal.rvs(\n",
    "        mean=mean, cov=cov, size=n_samples)\n",
    "\n",
    "    for s in samples:\n",
    "        plt.plot(grid, s)\n",
    "    plt.show()"
   ]
  },
  {
   "cell_type": "code",
   "execution_count": null,
   "metadata": {},
   "outputs": [],
   "source": [
    "main(20,5)"
   ]
  },
  {
   "cell_type": "code",
   "execution_count": null,
   "metadata": {
    "scrolled": true
   },
   "outputs": [],
   "source": [
    "grid = np.linspace(0, 1, num=10)\n",
    "print(grid)\n",
    "print(grid.shape)\n",
    "print(grid[:,None].shape)\n",
    "print(grid[None,:].shape)\n",
    "np.minimum(grid[:,None], grid[None,:])"
   ]
  },
  {
   "cell_type": "code",
   "execution_count": null,
   "metadata": {},
   "outputs": [],
   "source": [
    "np.outer(grid, grid)"
   ]
  },
  {
   "cell_type": "code",
   "execution_count": null,
   "metadata": {},
   "outputs": [],
   "source": []
  }
 ],
 "metadata": {
  "kernelspec": {
   "display_name": "Python 3",
   "language": "python",
   "name": "python3"
  },
  "language_info": {
   "codemirror_mode": {
    "name": "ipython",
    "version": 3
   },
   "file_extension": ".py",
   "mimetype": "text/x-python",
   "name": "python",
   "nbconvert_exporter": "python",
   "pygments_lexer": "ipython3",
   "version": "3.7.1"
  }
 },
 "nbformat": 4,
 "nbformat_minor": 2
}
