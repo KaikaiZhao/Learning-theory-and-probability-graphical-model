{
 "cells": [
  {
   "cell_type": "markdown",
   "metadata": {},
   "source": [
    "# Generate Gaussian Process Samples"
   ]
  },
  {
   "cell_type": "markdown",
   "metadata": {},
   "source": [
    "Reference: https://github.com/keyonvafa/gp-predictit-blog/blob/master/gp_samples.py"
   ]
  },
  {
   "cell_type": "code",
   "execution_count": 70,
   "metadata": {},
   "outputs": [],
   "source": [
    "import numpy as np\n",
    "import matplotlib.pyplot as plt\n",
    "import sys\n",
    "epsilon = sys.float_info.epsilon"
   ]
  },
  {
   "cell_type": "code",
   "execution_count": 24,
   "metadata": {},
   "outputs": [],
   "source": [
    "def rq_covariance(params, x, xp):\n",
    "    h= params[0]\n",
    "    alpha = params[1]\n",
    "    l = params[2]\n",
    "    diffs = np.expand_dims(x /l, 1) - np.expand_dims(xp/l, 0)\n",
    "    print(diffs)\n",
    "    rq = h**2 *np.power(1+np.sum(diffs**2, axis=2)/(2*alpha*l**2),(-1*alpha))\n",
    "    print(rq)\n",
    "    return rq"
   ]
  },
  {
   "cell_type": "code",
   "execution_count": 120,
   "metadata": {},
   "outputs": [],
   "source": [
    "def rbf_covariance(length_scale, x, xp):\n",
    "    diffs = x.reshape((len(x),1)) - xp.reshape(1,len(xp))\n",
    "    diff_sq = -diffs**2/(2*length_scale**2)\n",
    "    rbf = np.exp( diff_sq )\n",
    "    return rbf\n",
    "\n",
    "length_scale = 1\n",
    "n_points = 5\n",
    "n_samples = 3\n",
    "x = np.linspace(-5, 5, num=n_points)\n",
    "m = np.zeros(n_points)\n",
    "cov = rbf_covariance(length_scale, x, x)"
   ]
  },
  {
   "cell_type": "code",
   "execution_count": 92,
   "metadata": {},
   "outputs": [
    {
     "data": {
      "text/plain": [
       "(20, 20)"
      ]
     },
     "execution_count": 92,
     "metadata": {},
     "output_type": "execute_result"
    }
   ],
   "source": [
    "cov.shape"
   ]
  },
  {
   "cell_type": "code",
   "execution_count": 117,
   "metadata": {
    "scrolled": true
   },
   "outputs": [
    {
     "data": {
      "text/plain": [
       "(3, 200)"
      ]
     },
     "execution_count": 117,
     "metadata": {},
     "output_type": "execute_result"
    }
   ],
   "source": [
    "samples = scipy.stats.multivariate_normal.rvs(mean=m, cov=cov, size=n_samples)\n",
    "samples.shape"
   ]
  },
  {
   "cell_type": "markdown",
   "metadata": {},
   "source": [
    "We can also generate multivariate Gaussian samples using Cholesky decomposition(aka. matrix square root). For details, you can read A.2 on Page 201 in the Appendix A of GPML book written by Rasmussen & Williams."
   ]
  },
  {
   "cell_type": "code",
   "execution_count": 123,
   "metadata": {},
   "outputs": [
    {
     "name": "stdout",
     "output_type": "stream",
     "text": [
      "[1.41421356 0.         0.         0.         0.        ]\n",
      "(5, 3)\n"
     ]
    },
    {
     "data": {
      "text/plain": [
       "(3, 5)"
      ]
     },
     "execution_count": 123,
     "metadata": {},
     "output_type": "execute_result"
    }
   ],
   "source": [
    "# K=L*L.T\n",
    "epsilon = 1.0 ** (-12)\n",
    "I = np.identity(n_points)\n",
    "L = np.linalg.cholesky(cov + epsilon*I)\n",
    "print(L[0,:])\n",
    "u = np.random.normal(size=(n_points,n_samples))\n",
    "print(u.shape)\n",
    "samples = m[:, np.newaxis] + np.dot(L, u)\n",
    "samples = samples.T\n",
    "samples.shape"
   ]
  },
  {
   "cell_type": "code",
   "execution_count": 118,
   "metadata": {},
   "outputs": [
    {
     "data": {
      "image/png": "[encoded data removed]",
      "text/plain": [
       "<Figure size 432x288 with 1 Axes>"
      ]
     },
     "metadata": {
      "needs_background": "light"
     },
     "output_type": "display_data"
    }
   ],
   "source": [
    "for s in samples:\n",
    "    plt.plot(x, s)\n",
    "plt.show()"
   ]
  },
  {
   "cell_type": "code",
   "execution_count": 79,
   "metadata": {},
   "outputs": [
    {
     "data": {
      "text/plain": [
       "0.01771206873299218"
      ]
     },
     "execution_count": 79,
     "metadata": {},
     "output_type": "execute_result"
    }
   ],
   "source": [
    "np.linalg.det(cov + epsilon*np.identity(n_points))"
   ]
  },
  {
   "cell_type": "code",
   "execution_count": 100,
   "metadata": {},
   "outputs": [
    {
     "name": "stdout",
     "output_type": "stream",
     "text": [
      "(2,)\n",
      "[0 1]\n",
      "[[0 1]]\n",
      "(1, 2)\n",
      "[[0]\n",
      " [1]]\n",
      "(2, 1)\n"
     ]
    },
    {
     "data": {
      "text/plain": [
       "array([[-0.67879405, -0.37947115,  1.57094834],\n",
       "       [ 1.11524332, -1.54651537, -0.14422195]])"
      ]
     },
     "execution_count": 100,
     "metadata": {},
     "output_type": "execute_result"
    }
   ],
   "source": [
    "aa = np.arange(2)\n",
    "print(aa.shape)\n",
    "print(aa)\n",
    "bb=aa[np.newaxis,:]\n",
    "cc=aa[:,np.newaxis]\n",
    "print(bb)\n",
    "print(bb.shape)\n",
    "print(cc)\n",
    "print(cc.shape)\n",
    "np.random.normal(size=(2,3))"
   ]
  },
  {
   "cell_type": "code",
   "execution_count": null,
   "metadata": {},
   "outputs": [],
   "source": [
    "def plot_gp(ax,params,plot_xs,n_samples = 10,xlab=False,ylab=False):\n",
    "    #plot_xs = np.reshape(np.linspace(-5, 5, 300), (300,1))\n",
    "    sampled_funcs = np.random.multivariate_normal(np.ones(len(plot_xs)), rq_covariance(params,plot_xs,plot_xs),\\\n",
    "    \t\t\t\t\tsize=10)\n",
    "    ax.plot(plot_xs, sampled_funcs.T)\n",
    "    ax.set_title(r'$\\alpha = {},\\/ l = {} $'.format(\\\n",
    "        params[1],params[2]),fontsize = 22)\n",
    "    if xlab:\n",
    "        ax.set_xlabel(r'$x$',fontsize = 20)\n",
    "    if ylab:\n",
    "        ax.set_ylabel(r'$f(x)$',fontsize = 20)\n",
    "\n",
    "fig = plt.figure(figsize=(20,8), facecolor='white')\n",
    "ax_1 = fig.add_subplot(231, frameon=False)\n",
    "ax_2 = fig.add_subplot(232, frameon=False)\n",
    "ax_3 = fig.add_subplot(233, frameon=False)\n",
    "ax_4 = fig.add_subplot(234, frameon=False)\n",
    "ax_5 = fig.add_subplot(235, frameon=False)\n",
    "ax_6 = fig.add_subplot(236, frameon=False)\n",
    "ax_1.set_xticks([])\n",
    "ax_1.set_yticks([])\n",
    "ax_2.set_xticks([])\n",
    "ax_2.set_yticks([])\n",
    "ax_3.set_xticks([])\n",
    "ax_3.set_yticks([])\n",
    "ax_4.set_xticks([])\n",
    "ax_4.set_yticks([])\n",
    "ax_5.set_xticks([])\n",
    "ax_5.set_yticks([])\n",
    "ax_6.set_xticks([])\n",
    "ax_6.set_yticks([])\n",
    "\n",
    "plot_xs = np.reshape(np.linspace(-5, 5, 300), (300,1))\n",
    "plot_gp(ax_1,np.array([1,1,.5]),plot_xs,ylab=True)\n",
    "plot_gp(ax_2,np.array([1,1,1.0]),plot_xs)\n",
    "plot_gp(ax_3,np.array([1,1,2.0]),plot_xs)\n",
    "plot_gp(ax_4,np.array([1,.02,1]),plot_xs,ylab=True,xlab=True)\n",
    "plot_gp(ax_5,np.array([1,.1,1]),plot_xs,xlab=True)\n",
    "plot_gp(ax_6,np.array([1,2.0,1]),plot_xs,xlab=True)\n",
    "plt.savefig('gp_samples.png', format='png',bbox_inches='tight')"
   ]
  },
  {
   "cell_type": "code",
   "execution_count": null,
   "metadata": {},
   "outputs": [],
   "source": [
    "plot_xs = np.linspace(0, 1, 5)\n",
    "diffs = np.reshape(plot_xs, ( len(plot_xs), 1 )) - np.reshape(plot_xs, ( 1, len(plot_xs)))\n",
    "print(diffs.shape)\n",
    "print(diffs)"
   ]
  },
  {
   "cell_type": "code",
   "execution_count": 40,
   "metadata": {},
   "outputs": [
    {
     "data": {
      "text/plain": [
       "(5, 5)"
      ]
     },
     "execution_count": 40,
     "metadata": {},
     "output_type": "execute_result"
    }
   ],
   "source": [
    "(diffs[:,:,0]**2).shape"
   ]
  },
  {
   "cell_type": "code",
   "execution_count": 42,
   "metadata": {},
   "outputs": [],
   "source": [
    "aa=np.sum(diffs**2, axis=2)"
   ]
  },
  {
   "cell_type": "code",
   "execution_count": 43,
   "metadata": {},
   "outputs": [
    {
     "data": {
      "text/plain": [
       "(5, 5)"
      ]
     },
     "execution_count": 43,
     "metadata": {},
     "output_type": "execute_result"
    }
   ],
   "source": [
    "aa.shape"
   ]
  },
  {
   "cell_type": "code",
   "execution_count": null,
   "metadata": {},
   "outputs": [],
   "source": [
    "rq = np.power(1+np.sum(diffs**2, axis=2)/(1),(-1*1))\n",
    "print(rq.shape)\n",
    "print(rq)"
   ]
  },
  {
   "cell_type": "code",
   "execution_count": 23,
   "metadata": {},
   "outputs": [
    {
     "name": "stdout",
     "output_type": "stream",
     "text": [
      "[[ 0 -1 -2 -3]\n",
      " [ 1  0 -1 -2]\n",
      " [ 2  1  0 -1]\n",
      " [ 3  2  1  0]]\n"
     ]
    }
   ],
   "source": [
    "np.expand_dims(x, 0).shape\n",
    "diffs = np.expand_dims(x, 1) - np.expand_dims(x, 0)\n",
    "print(diffs)"
   ]
  },
  {
   "cell_type": "code",
   "execution_count": null,
   "metadata": {},
   "outputs": [],
   "source": [
    "l=1\n",
    "a1=np.expand_dims(x /l, 1)\n",
    "print(a1)\n",
    "a1.shape"
   ]
  },
  {
   "cell_type": "code",
   "execution_count": null,
   "metadata": {},
   "outputs": [],
   "source": [
    "a0=np.expand_dims(x /l, 0)\n",
    "print(a0)\n",
    "a0.shape"
   ]
  },
  {
   "cell_type": "code",
   "execution_count": null,
   "metadata": {},
   "outputs": [],
   "source": [
    "diffs=a1-a0\n",
    "print(diffs.shape)\n",
    "print(diffs)"
   ]
  },
  {
   "cell_type": "code",
   "execution_count": null,
   "metadata": {},
   "outputs": [],
   "source": [
    "mean = [0, 0]\n",
    "cov = [[10, 15], [15, 100]]  # diagonal covariance\n",
    "x, y = np.random.multivariate_normal(mean, cov, 20).T\n",
    "print(x.shape)\n",
    "print(x)\n",
    "print(y.shape)\n",
    "print(y)\n",
    "plt.plot(x, y, 'o')\n",
    "plt.axis('equal')\n",
    "plt.show()"
   ]
  },
  {
   "cell_type": "code",
   "execution_count": null,
   "metadata": {},
   "outputs": [],
   "source": [
    "aa=np.linspace(-5, 5, 20)"
   ]
  },
  {
   "cell_type": "code",
   "execution_count": null,
   "metadata": {},
   "outputs": [],
   "source": [
    "aa.shape"
   ]
  },
  {
   "cell_type": "code",
   "execution_count": null,
   "metadata": {},
   "outputs": [],
   "source": [
    "print(aa)"
   ]
  },
  {
   "cell_type": "code",
   "execution_count": null,
   "metadata": {},
   "outputs": [],
   "source": [
    "ab = np.reshape(aa,(20,1))"
   ]
  },
  {
   "cell_type": "code",
   "execution_count": null,
   "metadata": {},
   "outputs": [],
   "source": [
    "ac = np.expand_dims(ab, 0)"
   ]
  },
  {
   "cell_type": "code",
   "execution_count": null,
   "metadata": {},
   "outputs": [],
   "source": [
    "ac.shape"
   ]
  },
  {
   "cell_type": "code",
   "execution_count": null,
   "metadata": {},
   "outputs": [],
   "source": [
    "print(ac)"
   ]
  },
  {
   "cell_type": "code",
   "execution_count": null,
   "metadata": {},
   "outputs": [],
   "source": [
    "plot_xs.shape"
   ]
  },
  {
   "cell_type": "code",
   "execution_count": null,
   "metadata": {},
   "outputs": [],
   "source": [
    "import matplotlib.pyplot as plt\n",
    "import numpy as np\n",
    "import scipy.stats\n",
    "\n",
    "\n",
    "def gp_samples(n_points, n_samples):\n",
    "    grid = np.linspace(0, 1, num=n_points)\n",
    "\n",
    "    mean = np.zeros_like(grid)\n",
    "    cov = np.minimum(grid[:,None], grid[None,:]) - np.outer(grid, grid)\n",
    "    samples = scipy.stats.multivariate_normal.rvs(\n",
    "        mean=mean, cov=cov, size=n_samples)\n",
    "\n",
    "    for s in samples:\n",
    "        plt.plot(grid, s)\n",
    "    plt.show()"
   ]
  },
  {
   "cell_type": "code",
   "execution_count": null,
   "metadata": {},
   "outputs": [],
   "source": [
    "main(20,5)"
   ]
  },
  {
   "cell_type": "code",
   "execution_count": null,
   "metadata": {
    "scrolled": true
   },
   "outputs": [],
   "source": [
    "grid = np.linspace(0, 1, num=10)\n",
    "print(grid)\n",
    "print(grid.shape)\n",
    "print(grid[:,None].shape)\n",
    "print(grid[None,:].shape)\n",
    "np.minimum(grid[:,None], grid[None,:])"
   ]
  },
  {
   "cell_type": "code",
   "execution_count": null,
   "metadata": {},
   "outputs": [],
   "source": [
    "np.outer(grid, grid)"
   ]
  },
  {
   "cell_type": "code",
   "execution_count": 124,
   "metadata": {},
   "outputs": [
    {
     "data": {
      "text/plain": [
       "0.49483865960020695"
      ]
     },
     "execution_count": 124,
     "metadata": {},
     "output_type": "execute_result"
    }
   ],
   "source": [
    "0.99**70"
   ]
  },
  {
   "cell_type": "code",
   "execution_count": 125,
   "metadata": {},
   "outputs": [
    {
     "data": {
      "text/plain": [
       "range(0, 3)"
      ]
     },
     "execution_count": 125,
     "metadata": {},
     "output_type": "execute_result"
    }
   ],
   "source": [
    "range(3)"
   ]
  },
  {
   "cell_type": "code",
   "execution_count": 126,
   "metadata": {},
   "outputs": [
    {
     "name": "stdout",
     "output_type": "stream",
     "text": [
      "range(0, 3)\n"
     ]
    }
   ],
   "source": [
    "print(range(3))"
   ]
  },
  {
   "cell_type": "code",
   "execution_count": 127,
   "metadata": {},
   "outputs": [
    {
     "name": "stdout",
     "output_type": "stream",
     "text": [
      "0\n",
      "1\n",
      "2\n"
     ]
    }
   ],
   "source": [
    "for i in range(3):\n",
    "    print(i)"
   ]
  },
  {
   "cell_type": "code",
   "execution_count": null,
   "metadata": {},
   "outputs": [],
   "source": []
  }
 ],
 "metadata": {
  "kernelspec": {
   "display_name": "Python 3",
   "language": "python",
   "name": "python3"
  },
  "language_info": {
   "codemirror_mode": {
    "name": "ipython",
    "version": 3
   },
   "file_extension": ".py",
   "mimetype": "text/x-python",
   "name": "python",
   "nbconvert_exporter": "python",
   "pygments_lexer": "ipython3",
   "version": "3.7.1"
  }
 },
 "nbformat": 4,
 "nbformat_minor": 2
}
